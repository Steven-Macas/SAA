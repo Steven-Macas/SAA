{
  "nbformat": 4,
  "nbformat_minor": 0,
  "metadata": {
    "colab": {
      "provenance": [],
      "authorship_tag": "ABX9TyORWlCziKQlfAT3PXpvSUTh",
      "include_colab_link": true
    },
    "kernelspec": {
      "name": "python3",
      "display_name": "Python 3"
    },
    "language_info": {
      "name": "python"
    }
  },
  "cells": [
    {
      "cell_type": "markdown",
      "metadata": {
        "id": "view-in-github",
        "colab_type": "text"
      },
      "source": [
        "<a href=\"https://colab.research.google.com/github/Steven-Macas/SAA/blob/Pandas/ejerciciosPandas_saa_stevenMacas.ipynb\" target=\"_parent\"><img src=\"https://colab.research.google.com/assets/colab-badge.svg\" alt=\"Open In Colab\"/></a>"
      ]
    },
    {
      "cell_type": "markdown",
      "source": [
        "# **Ejercicios de desarrollo. Dataframes y preproceso**\n",
        "\n",
        "---\n",
        "\n"
      ],
      "metadata": {
        "id": "IUE9oFGnWno8"
      }
    },
    {
      "cell_type": "markdown",
      "source": [
        "***1. Crea un dataframe con 1000 registros para tres datos con valores aleatorios generados***"
      ],
      "metadata": {
        "id": "idybYyBiWiGk"
      }
    },
    {
      "cell_type": "markdown",
      "source": [
        "• x → entre 20 y 50\n",
        "\n",
        "• y → entre 50 y 150\n",
        "\n",
        "• z → entre 10000 y 40000"
      ],
      "metadata": {
        "id": "l2RJEEImZVM8"
      }
    },
    {
      "cell_type": "code",
      "execution_count": null,
      "metadata": {
        "id": "EsFDl7NzWXwG"
      },
      "outputs": [],
      "source": [
        "#Importamos las librerias necesarias\n",
        "import numpy as np\n",
        "import pandas as pd\n",
        "import random\n",
        "import scipy.stats as st\n",
        "import matplotlib.pyplot as plt\n",
        "from sklearn.preprocessing import MinMaxScaler"
      ]
    },
    {
      "cell_type": "markdown",
      "source": [
        "Creamos 3 arrays para las columnas con el rango de cada columna que nos indica"
      ],
      "metadata": {
        "id": "Mavl4daudXhf"
      }
    },
    {
      "cell_type": "code",
      "source": [
        "#Creamos los 1000 registros con los rangos que nos piden para cada atributo\n",
        "x = []\n",
        "y = []\n",
        "z = []\n",
        "for a in range(1000):\n",
        "  x.append(random.randint(20, 50))\n",
        "for b in range(1000):\n",
        "  y.append(random.randint(50, 150))\n",
        "for c in range(1000):\n",
        "  z.append(random.randint(10000, 40000))"
      ],
      "metadata": {
        "id": "hI956QjqZHRs"
      },
      "execution_count": null,
      "outputs": []
    },
    {
      "cell_type": "markdown",
      "source": [
        "Creamos una matriz con los datos de los tres arrays de antes y lo convertimos a DataFrame"
      ],
      "metadata": {
        "id": "c31yLhwcdL8Z"
      }
    },
    {
      "cell_type": "code",
      "source": [
        "data = {\n",
        "    'Edad':x,\n",
        "    'Peso':y,\n",
        "    'Salario':z\n",
        "}\n",
        "data = pd.DataFrame(data)"
      ],
      "metadata": {
        "id": "pyk1yzhzXJ07"
      },
      "execution_count": null,
      "outputs": []
    },
    {
      "cell_type": "code",
      "source": [
        "#Como los valores de cada columna se ve bien porque hay variedad \n",
        "#y las medias sale algo normal para el rango que tienen\n",
        "#lo guardamos para volver a trabajar con ella más adelante\n",
        "#data.to_csv('dataFrame.csv')\n",
        "data = pd.read_csv('dataFrame.csv')"
      ],
      "metadata": {
        "id": "KnO21ldBizxz"
      },
      "execution_count": null,
      "outputs": []
    },
    {
      "cell_type": "code",
      "source": [
        "data.drop(['Unnamed: 0'],axis=1)"
      ],
      "metadata": {
        "colab": {
          "base_uri": "https://localhost:8080/",
          "height": 424
        },
        "id": "a154vIk9JEIH",
        "outputId": "cc77b2a8-c4c5-41dc-f42d-a89db2d106e7"
      },
      "execution_count": null,
      "outputs": [
        {
          "output_type": "execute_result",
          "data": {
            "text/plain": [
              "      Edad  Peso  Salario\n",
              "0       35   144    32463\n",
              "1       39    85    33905\n",
              "2       31    61    29817\n",
              "3       35   103    28138\n",
              "4       50    79    38301\n",
              "...    ...   ...      ...\n",
              "997     37   111    16076\n",
              "998     44    90    29668\n",
              "999     23    95    36629\n",
              "1001    90    80    25000\n",
              "1002   100    85    26000\n",
              "\n",
              "[1002 rows x 3 columns]"
            ],
            "text/html": [
              "\n",
              "  <div id=\"df-c06a3fe5-8b5a-4e2a-9cc8-307b4fcb6472\">\n",
              "    <div class=\"colab-df-container\">\n",
              "      <div>\n",
              "<style scoped>\n",
              "    .dataframe tbody tr th:only-of-type {\n",
              "        vertical-align: middle;\n",
              "    }\n",
              "\n",
              "    .dataframe tbody tr th {\n",
              "        vertical-align: top;\n",
              "    }\n",
              "\n",
              "    .dataframe thead th {\n",
              "        text-align: right;\n",
              "    }\n",
              "</style>\n",
              "<table border=\"1\" class=\"dataframe\">\n",
              "  <thead>\n",
              "    <tr style=\"text-align: right;\">\n",
              "      <th></th>\n",
              "      <th>Edad</th>\n",
              "      <th>Peso</th>\n",
              "      <th>Salario</th>\n",
              "    </tr>\n",
              "  </thead>\n",
              "  <tbody>\n",
              "    <tr>\n",
              "      <th>0</th>\n",
              "      <td>35</td>\n",
              "      <td>144</td>\n",
              "      <td>32463</td>\n",
              "    </tr>\n",
              "    <tr>\n",
              "      <th>1</th>\n",
              "      <td>39</td>\n",
              "      <td>85</td>\n",
              "      <td>33905</td>\n",
              "    </tr>\n",
              "    <tr>\n",
              "      <th>2</th>\n",
              "      <td>31</td>\n",
              "      <td>61</td>\n",
              "      <td>29817</td>\n",
              "    </tr>\n",
              "    <tr>\n",
              "      <th>3</th>\n",
              "      <td>35</td>\n",
              "      <td>103</td>\n",
              "      <td>28138</td>\n",
              "    </tr>\n",
              "    <tr>\n",
              "      <th>4</th>\n",
              "      <td>50</td>\n",
              "      <td>79</td>\n",
              "      <td>38301</td>\n",
              "    </tr>\n",
              "    <tr>\n",
              "      <th>...</th>\n",
              "      <td>...</td>\n",
              "      <td>...</td>\n",
              "      <td>...</td>\n",
              "    </tr>\n",
              "    <tr>\n",
              "      <th>997</th>\n",
              "      <td>37</td>\n",
              "      <td>111</td>\n",
              "      <td>16076</td>\n",
              "    </tr>\n",
              "    <tr>\n",
              "      <th>998</th>\n",
              "      <td>44</td>\n",
              "      <td>90</td>\n",
              "      <td>29668</td>\n",
              "    </tr>\n",
              "    <tr>\n",
              "      <th>999</th>\n",
              "      <td>23</td>\n",
              "      <td>95</td>\n",
              "      <td>36629</td>\n",
              "    </tr>\n",
              "    <tr>\n",
              "      <th>1001</th>\n",
              "      <td>90</td>\n",
              "      <td>80</td>\n",
              "      <td>25000</td>\n",
              "    </tr>\n",
              "    <tr>\n",
              "      <th>1002</th>\n",
              "      <td>100</td>\n",
              "      <td>85</td>\n",
              "      <td>26000</td>\n",
              "    </tr>\n",
              "  </tbody>\n",
              "</table>\n",
              "<p>1002 rows × 3 columns</p>\n",
              "</div>\n",
              "      <button class=\"colab-df-convert\" onclick=\"convertToInteractive('df-c06a3fe5-8b5a-4e2a-9cc8-307b4fcb6472')\"\n",
              "              title=\"Convert this dataframe to an interactive table.\"\n",
              "              style=\"display:none;\">\n",
              "        \n",
              "  <svg xmlns=\"http://www.w3.org/2000/svg\" height=\"24px\"viewBox=\"0 0 24 24\"\n",
              "       width=\"24px\">\n",
              "    <path d=\"M0 0h24v24H0V0z\" fill=\"none\"/>\n",
              "    <path d=\"M18.56 5.44l.94 2.06.94-2.06 2.06-.94-2.06-.94-.94-2.06-.94 2.06-2.06.94zm-11 1L8.5 8.5l.94-2.06 2.06-.94-2.06-.94L8.5 2.5l-.94 2.06-2.06.94zm10 10l.94 2.06.94-2.06 2.06-.94-2.06-.94-.94-2.06-.94 2.06-2.06.94z\"/><path d=\"M17.41 7.96l-1.37-1.37c-.4-.4-.92-.59-1.43-.59-.52 0-1.04.2-1.43.59L10.3 9.45l-7.72 7.72c-.78.78-.78 2.05 0 2.83L4 21.41c.39.39.9.59 1.41.59.51 0 1.02-.2 1.41-.59l7.78-7.78 2.81-2.81c.8-.78.8-2.07 0-2.86zM5.41 20L4 18.59l7.72-7.72 1.47 1.35L5.41 20z\"/>\n",
              "  </svg>\n",
              "      </button>\n",
              "      \n",
              "  <style>\n",
              "    .colab-df-container {\n",
              "      display:flex;\n",
              "      flex-wrap:wrap;\n",
              "      gap: 12px;\n",
              "    }\n",
              "\n",
              "    .colab-df-convert {\n",
              "      background-color: #E8F0FE;\n",
              "      border: none;\n",
              "      border-radius: 50%;\n",
              "      cursor: pointer;\n",
              "      display: none;\n",
              "      fill: #1967D2;\n",
              "      height: 32px;\n",
              "      padding: 0 0 0 0;\n",
              "      width: 32px;\n",
              "    }\n",
              "\n",
              "    .colab-df-convert:hover {\n",
              "      background-color: #E2EBFA;\n",
              "      box-shadow: 0px 1px 2px rgba(60, 64, 67, 0.3), 0px 1px 3px 1px rgba(60, 64, 67, 0.15);\n",
              "      fill: #174EA6;\n",
              "    }\n",
              "\n",
              "    [theme=dark] .colab-df-convert {\n",
              "      background-color: #3B4455;\n",
              "      fill: #D2E3FC;\n",
              "    }\n",
              "\n",
              "    [theme=dark] .colab-df-convert:hover {\n",
              "      background-color: #434B5C;\n",
              "      box-shadow: 0px 1px 3px 1px rgba(0, 0, 0, 0.15);\n",
              "      filter: drop-shadow(0px 1px 2px rgba(0, 0, 0, 0.3));\n",
              "      fill: #FFFFFF;\n",
              "    }\n",
              "  </style>\n",
              "\n",
              "      <script>\n",
              "        const buttonEl =\n",
              "          document.querySelector('#df-c06a3fe5-8b5a-4e2a-9cc8-307b4fcb6472 button.colab-df-convert');\n",
              "        buttonEl.style.display =\n",
              "          google.colab.kernel.accessAllowed ? 'block' : 'none';\n",
              "\n",
              "        async function convertToInteractive(key) {\n",
              "          const element = document.querySelector('#df-c06a3fe5-8b5a-4e2a-9cc8-307b4fcb6472');\n",
              "          const dataTable =\n",
              "            await google.colab.kernel.invokeFunction('convertToInteractive',\n",
              "                                                     [key], {});\n",
              "          if (!dataTable) return;\n",
              "\n",
              "          const docLinkHtml = 'Like what you see? Visit the ' +\n",
              "            '<a target=\"_blank\" href=https://colab.research.google.com/notebooks/data_table.ipynb>data table notebook</a>'\n",
              "            + ' to learn more about interactive tables.';\n",
              "          element.innerHTML = '';\n",
              "          dataTable['output_type'] = 'display_data';\n",
              "          await google.colab.output.renderOutput(dataTable, element);\n",
              "          const docLink = document.createElement('div');\n",
              "          docLink.innerHTML = docLinkHtml;\n",
              "          element.appendChild(docLink);\n",
              "        }\n",
              "      </script>\n",
              "    </div>\n",
              "  </div>\n",
              "  "
            ]
          },
          "metadata": {},
          "execution_count": 7
        }
      ]
    },
    {
      "cell_type": "code",
      "source": [
        "#Podemos visualizarlo ahora\n",
        "data.head()"
      ],
      "metadata": {
        "colab": {
          "base_uri": "https://localhost:8080/",
          "height": 206
        },
        "id": "OJW76bnPdmlP",
        "outputId": "7cdf1806-7312-42f6-b58d-3e585b5fda40"
      },
      "execution_count": null,
      "outputs": [
        {
          "output_type": "execute_result",
          "data": {
            "text/plain": [
              "   Unnamed: 0  Edad  Peso  Salario\n",
              "0           0    35   144    32463\n",
              "1           1    39    85    33905\n",
              "2           2    31    61    29817\n",
              "3           3    35   103    28138\n",
              "4           4    50    79    38301"
            ],
            "text/html": [
              "\n",
              "  <div id=\"df-7fb5187d-40f5-4866-8edd-82dc497a47a0\">\n",
              "    <div class=\"colab-df-container\">\n",
              "      <div>\n",
              "<style scoped>\n",
              "    .dataframe tbody tr th:only-of-type {\n",
              "        vertical-align: middle;\n",
              "    }\n",
              "\n",
              "    .dataframe tbody tr th {\n",
              "        vertical-align: top;\n",
              "    }\n",
              "\n",
              "    .dataframe thead th {\n",
              "        text-align: right;\n",
              "    }\n",
              "</style>\n",
              "<table border=\"1\" class=\"dataframe\">\n",
              "  <thead>\n",
              "    <tr style=\"text-align: right;\">\n",
              "      <th></th>\n",
              "      <th>Unnamed: 0</th>\n",
              "      <th>Edad</th>\n",
              "      <th>Peso</th>\n",
              "      <th>Salario</th>\n",
              "    </tr>\n",
              "  </thead>\n",
              "  <tbody>\n",
              "    <tr>\n",
              "      <th>0</th>\n",
              "      <td>0</td>\n",
              "      <td>35</td>\n",
              "      <td>144</td>\n",
              "      <td>32463</td>\n",
              "    </tr>\n",
              "    <tr>\n",
              "      <th>1</th>\n",
              "      <td>1</td>\n",
              "      <td>39</td>\n",
              "      <td>85</td>\n",
              "      <td>33905</td>\n",
              "    </tr>\n",
              "    <tr>\n",
              "      <th>2</th>\n",
              "      <td>2</td>\n",
              "      <td>31</td>\n",
              "      <td>61</td>\n",
              "      <td>29817</td>\n",
              "    </tr>\n",
              "    <tr>\n",
              "      <th>3</th>\n",
              "      <td>3</td>\n",
              "      <td>35</td>\n",
              "      <td>103</td>\n",
              "      <td>28138</td>\n",
              "    </tr>\n",
              "    <tr>\n",
              "      <th>4</th>\n",
              "      <td>4</td>\n",
              "      <td>50</td>\n",
              "      <td>79</td>\n",
              "      <td>38301</td>\n",
              "    </tr>\n",
              "  </tbody>\n",
              "</table>\n",
              "</div>\n",
              "      <button class=\"colab-df-convert\" onclick=\"convertToInteractive('df-7fb5187d-40f5-4866-8edd-82dc497a47a0')\"\n",
              "              title=\"Convert this dataframe to an interactive table.\"\n",
              "              style=\"display:none;\">\n",
              "        \n",
              "  <svg xmlns=\"http://www.w3.org/2000/svg\" height=\"24px\"viewBox=\"0 0 24 24\"\n",
              "       width=\"24px\">\n",
              "    <path d=\"M0 0h24v24H0V0z\" fill=\"none\"/>\n",
              "    <path d=\"M18.56 5.44l.94 2.06.94-2.06 2.06-.94-2.06-.94-.94-2.06-.94 2.06-2.06.94zm-11 1L8.5 8.5l.94-2.06 2.06-.94-2.06-.94L8.5 2.5l-.94 2.06-2.06.94zm10 10l.94 2.06.94-2.06 2.06-.94-2.06-.94-.94-2.06-.94 2.06-2.06.94z\"/><path d=\"M17.41 7.96l-1.37-1.37c-.4-.4-.92-.59-1.43-.59-.52 0-1.04.2-1.43.59L10.3 9.45l-7.72 7.72c-.78.78-.78 2.05 0 2.83L4 21.41c.39.39.9.59 1.41.59.51 0 1.02-.2 1.41-.59l7.78-7.78 2.81-2.81c.8-.78.8-2.07 0-2.86zM5.41 20L4 18.59l7.72-7.72 1.47 1.35L5.41 20z\"/>\n",
              "  </svg>\n",
              "      </button>\n",
              "      \n",
              "  <style>\n",
              "    .colab-df-container {\n",
              "      display:flex;\n",
              "      flex-wrap:wrap;\n",
              "      gap: 12px;\n",
              "    }\n",
              "\n",
              "    .colab-df-convert {\n",
              "      background-color: #E8F0FE;\n",
              "      border: none;\n",
              "      border-radius: 50%;\n",
              "      cursor: pointer;\n",
              "      display: none;\n",
              "      fill: #1967D2;\n",
              "      height: 32px;\n",
              "      padding: 0 0 0 0;\n",
              "      width: 32px;\n",
              "    }\n",
              "\n",
              "    .colab-df-convert:hover {\n",
              "      background-color: #E2EBFA;\n",
              "      box-shadow: 0px 1px 2px rgba(60, 64, 67, 0.3), 0px 1px 3px 1px rgba(60, 64, 67, 0.15);\n",
              "      fill: #174EA6;\n",
              "    }\n",
              "\n",
              "    [theme=dark] .colab-df-convert {\n",
              "      background-color: #3B4455;\n",
              "      fill: #D2E3FC;\n",
              "    }\n",
              "\n",
              "    [theme=dark] .colab-df-convert:hover {\n",
              "      background-color: #434B5C;\n",
              "      box-shadow: 0px 1px 3px 1px rgba(0, 0, 0, 0.15);\n",
              "      filter: drop-shadow(0px 1px 2px rgba(0, 0, 0, 0.3));\n",
              "      fill: #FFFFFF;\n",
              "    }\n",
              "  </style>\n",
              "\n",
              "      <script>\n",
              "        const buttonEl =\n",
              "          document.querySelector('#df-7fb5187d-40f5-4866-8edd-82dc497a47a0 button.colab-df-convert');\n",
              "        buttonEl.style.display =\n",
              "          google.colab.kernel.accessAllowed ? 'block' : 'none';\n",
              "\n",
              "        async function convertToInteractive(key) {\n",
              "          const element = document.querySelector('#df-7fb5187d-40f5-4866-8edd-82dc497a47a0');\n",
              "          const dataTable =\n",
              "            await google.colab.kernel.invokeFunction('convertToInteractive',\n",
              "                                                     [key], {});\n",
              "          if (!dataTable) return;\n",
              "\n",
              "          const docLinkHtml = 'Like what you see? Visit the ' +\n",
              "            '<a target=\"_blank\" href=https://colab.research.google.com/notebooks/data_table.ipynb>data table notebook</a>'\n",
              "            + ' to learn more about interactive tables.';\n",
              "          element.innerHTML = '';\n",
              "          dataTable['output_type'] = 'display_data';\n",
              "          await google.colab.output.renderOutput(dataTable, element);\n",
              "          const docLink = document.createElement('div');\n",
              "          docLink.innerHTML = docLinkHtml;\n",
              "          element.appendChild(docLink);\n",
              "        }\n",
              "      </script>\n",
              "    </div>\n",
              "  </div>\n",
              "  "
            ]
          },
          "metadata": {},
          "execution_count": 7
        }
      ]
    },
    {
      "cell_type": "markdown",
      "source": [
        "***2. Muestra los datos estadísticos de cada variable (media, desviación típica, máx, mín, etc.)***"
      ],
      "metadata": {
        "id": "N8uqdhboZfPg"
      }
    },
    {
      "cell_type": "code",
      "source": [
        "#Media de cada columna\n",
        "mean_edad = data['Edad'].mean()\n",
        "mean_peso = data['Peso'].mean()\n",
        "mean_salario = data['Salario'].mean()\n",
        "print('Media de Edad: ', mean_edad)\n",
        "print('Media de Peso: ', mean_peso)\n",
        "print('Media de Salario: ', mean_salario)"
      ],
      "metadata": {
        "colab": {
          "base_uri": "https://localhost:8080/"
        },
        "id": "Ev_tnRg7Zcsr",
        "outputId": "55f5951d-8fef-4ae7-ab63-f645a88baf71"
      },
      "execution_count": null,
      "outputs": [
        {
          "output_type": "stream",
          "name": "stdout",
          "text": [
            "Media de Edad:  35.189\n",
            "Media de Peso:  98.298\n",
            "Media de Salario:  24967.826\n"
          ]
        }
      ]
    },
    {
      "cell_type": "code",
      "source": [
        "#Moda de cada columna\n",
        "moda_peso = data['Peso'].mode()[0]\n",
        "moda_edad = data['Edad'].mode()[0]\n",
        "moda_salario = data['Salario'].mode()[0]\n",
        "print('Moda de Edad:', moda_edad)\n",
        "print('Moda de Peso:', moda_peso)\n",
        "print('Moda de Salario:', moda_salario)"
      ],
      "metadata": {
        "colab": {
          "base_uri": "https://localhost:8080/"
        },
        "id": "o9O5WGTnf7WJ",
        "outputId": "7d422a00-8cdb-4428-c247-98a566b98b23"
      },
      "execution_count": null,
      "outputs": [
        {
          "output_type": "stream",
          "name": "stdout",
          "text": [
            "Moda de Edad: 47\n",
            "Moda de Peso: 73\n",
            "Moda de Salario: 11582\n"
          ]
        }
      ]
    },
    {
      "cell_type": "code",
      "source": [
        "#Mediana de cada columna\n",
        "median_edad = data['Edad'].median()\n",
        "median_peso = data['Peso'].median()\n",
        "median_salario = data['Salario'].median()\n",
        "print('Mediana de Edad: ', median_edad)\n",
        "print('Mediana de Peso: ', median_peso)\n",
        "print('Mediana de Salario: ', median_salario)"
      ],
      "metadata": {
        "colab": {
          "base_uri": "https://localhost:8080/"
        },
        "id": "7Y6DkwvpkAxM",
        "outputId": "dd1199ec-2e39-4450-8569-ac8ea67be7ca"
      },
      "execution_count": null,
      "outputs": [
        {
          "output_type": "stream",
          "name": "stdout",
          "text": [
            "Mediana de Edad:  36.0\n",
            "Mediana de Peso:  98.0\n",
            "Mediana de Salario:  24848.5\n"
          ]
        }
      ]
    },
    {
      "cell_type": "code",
      "source": [
        "#Valor máximo y mínimo\n",
        "max_edad = data['Edad'].max()\n",
        "max_peso = data['Peso'].max()\n",
        "max_salario = data['Salario'].max()\n",
        "min_edad = data['Edad'].min()\n",
        "min_peso = data['Peso'].min()\n",
        "min_salario = data['Salario'].min()\n",
        "print('Máximo de Edad: ', max_edad, '.\\n Mínimo de Edad: ', min_edad)\n",
        "print('Máximo de Peso: ', max_peso, '.\\n Mínimo de Peso: ', min_peso)\n",
        "print('Máximo de Salario: ', max_salario, '.\\n Mínimo de Salario: ', min_salario)"
      ],
      "metadata": {
        "colab": {
          "base_uri": "https://localhost:8080/"
        },
        "id": "6E9OQPd3kkxi",
        "outputId": "9a376dd1-c72f-4403-af72-d0bb37b20fb8"
      },
      "execution_count": null,
      "outputs": [
        {
          "output_type": "stream",
          "name": "stdout",
          "text": [
            "Máximo de Edad:  50 .\n",
            " Mínimo de Edad:  20\n",
            "Máximo de Peso:  150 .\n",
            " Mínimo de Peso:  50\n",
            "Máximo de Salario:  40000 .\n",
            " Mínimo de Salario:  10013\n"
          ]
        }
      ]
    },
    {
      "cell_type": "code",
      "source": [
        "#Desviación de cada columna\n",
        "desv_edad = data['Edad'].std()\n",
        "desv_peso = data['Peso'].std()\n",
        "desv_salario = data['Salario'].std()\n",
        "print('Desviación de Edad: ', desv_edad)\n",
        "print('Desviación de Peso: ', desv_peso)\n",
        "print('Desviación de Salario: ', desv_salario)"
      ],
      "metadata": {
        "colab": {
          "base_uri": "https://localhost:8080/"
        },
        "id": "DwlHZquXmXZt",
        "outputId": "506bbe0b-8fda-4076-bab5-22371fbb7556"
      },
      "execution_count": null,
      "outputs": [
        {
          "output_type": "stream",
          "name": "stdout",
          "text": [
            "Desviación de Edad:  9.037087359760774\n",
            "Desviación de Peso:  29.31843731795347\n",
            "Desviación de Salario:  8659.074155760474\n"
          ]
        }
      ]
    },
    {
      "cell_type": "markdown",
      "source": [
        "**3. Usando la distribución normal calcula las siguientes probabilidades**\n",
        "1.   calcula (usando la distribución normal) la probabilidad que el valor y esté entre 55 y 70\n",
        "2.   calcula (usando la distribución normal) la probabilidad que el valor z esté entre 20000 y\n",
        "30000\n",
        "\n"
      ],
      "metadata": {
        "id": "FrWVUCnnoEv8"
      }
    },
    {
      "cell_type": "code",
      "source": [
        "#Estandarizacion\n",
        "a = (55-median_peso)/desv_peso\n",
        "b = (70-median_peso)/desv_peso\n",
        "prob_peso = st.norm.cdf(b) - st.norm.cdf(a)\n",
        "a2 = (20000-median_salario)/desv_salario\n",
        "b2 = (30000-median_salario)/desv_salario\n",
        "prob_salario = st.norm.cdf(b2) - st.norm.cdf(a2)\n",
        "print('Probabilidad de que el Peso esté entre 55-70 es ', prob_peso)\n",
        "print('Probabilidad de que el Salario esté entre 20000-30000 es ', prob_salario)"
      ],
      "metadata": {
        "colab": {
          "base_uri": "https://localhost:8080/"
        },
        "id": "DXAamayIom7J",
        "outputId": "b0d14ee4-5025-40c0-8203-740221c770c7"
      },
      "execution_count": null,
      "outputs": [
        {
          "output_type": "stream",
          "name": "stdout",
          "text": [
            "Probabilidad de que el Peso esté entre 55-70 es  0.09854603580465887\n",
            "Probabilidad de que el Salario esté entre 20000-30000 es  0.436290585935557\n"
          ]
        }
      ]
    },
    {
      "cell_type": "markdown",
      "source": [
        "**4. Realiza dos funciones que reciban un dataframe y un nombre de columna y devuelva una tupla con los valores (XL, XN) correspondiente al intervalo al cual si no pertenece un valor puede ser considerado como outlier.**"
      ],
      "metadata": {
        "id": "g1wBdjkOuSlj"
      }
    },
    {
      "cell_type": "markdown",
      "source": [
        "• Realiza el método 1 (el que se basa en la distribución normal).\n",
        "\n",
        "    ◦ Esta función además deberá recibir el porcentaje para que un elemento se quede en la banda\n",
        "\n",
        "• Realiza la función usando el método basado en cuantilies\n",
        "\n",
        "    ◦ Esta función además deberá recibir otro parámetro (k) que indica si queremos detectar outliers débiles(1.5) o no (k=3)"
      ],
      "metadata": {
        "id": "Y8SyQzepuhWa"
      }
    },
    {
      "cell_type": "code",
      "source": [
        "def bandas(data,columna,k):\n",
        "  #Calculamos los cuartiles, 1 y 3\n",
        "  Q1  = np.quantile(data[columna], 0.25)\n",
        "  Q3  = np.quantile(data[columna], 0.75)\n",
        "  IQR = Q3 - Q1\n",
        "\n",
        "  #Calculamos los extremos\n",
        "  xL = Q1 - k * IQR\n",
        "  xU = Q3 + k * IQR\n",
        "  result = [xL,xU]\n",
        "  return result\n",
        "\n",
        "result = bandas(data,'Edad',1.5)\n",
        "result"
      ],
      "metadata": {
        "colab": {
          "base_uri": "https://localhost:8080/"
        },
        "id": "Q3xRXf-futYL",
        "outputId": "0b4a4d2c-e581-4bc4-f20b-1e270b53f8d5"
      },
      "execution_count": null,
      "outputs": [
        {
          "output_type": "execute_result",
          "data": {
            "text/plain": [
              "[3.0, 67.0]"
            ]
          },
          "metadata": {},
          "execution_count": 14
        }
      ]
    },
    {
      "cell_type": "markdown",
      "source": [
        "**5. Introduce deliberadamente dos valores fuera de los rangos en alguno de los atributos (x, y, z) y, usando el método jackknife detecte las observaciones influyentes para la media. Haz lo mismo para la mediana. Comenta los resultados obtenidos.**"
      ],
      "metadata": {
        "id": "vS_6meyengs3"
      }
    },
    {
      "cell_type": "markdown",
      "source": [
        "añadimos dos valores fueras del rango"
      ],
      "metadata": {
        "id": "PnBn2CLfTlHi"
      }
    },
    {
      "cell_type": "code",
      "source": [
        "data.loc[1000] = [1001,1290,80,25000]"
      ],
      "metadata": {
        "id": "6RljVb_snf2b"
      },
      "execution_count": null,
      "outputs": []
    },
    {
      "cell_type": "code",
      "source": [
        "data.loc[1001] = [1002,1290,85,26000]"
      ],
      "metadata": {
        "id": "oa7INjGir1ft"
      },
      "execution_count": null,
      "outputs": []
    },
    {
      "cell_type": "code",
      "source": [
        "data.tail()"
      ],
      "metadata": {
        "colab": {
          "base_uri": "https://localhost:8080/",
          "height": 206
        },
        "id": "IAumNN8aPD66",
        "outputId": "29142735-b4c5-4c1b-9a7c-a421120bd6e6"
      },
      "execution_count": null,
      "outputs": [
        {
          "output_type": "execute_result",
          "data": {
            "text/plain": [
              "      Unnamed: 0  Edad  Peso  Salario\n",
              "997          997    37   111    16076\n",
              "998          998    44    90    29668\n",
              "999          999    23    95    36629\n",
              "1000        1001  1290    80    25000\n",
              "1001        1002  1290    85    26000"
            ],
            "text/html": [
              "\n",
              "  <div id=\"df-55c9b4df-957c-4ac8-878d-f0c875f7ff8e\">\n",
              "    <div class=\"colab-df-container\">\n",
              "      <div>\n",
              "<style scoped>\n",
              "    .dataframe tbody tr th:only-of-type {\n",
              "        vertical-align: middle;\n",
              "    }\n",
              "\n",
              "    .dataframe tbody tr th {\n",
              "        vertical-align: top;\n",
              "    }\n",
              "\n",
              "    .dataframe thead th {\n",
              "        text-align: right;\n",
              "    }\n",
              "</style>\n",
              "<table border=\"1\" class=\"dataframe\">\n",
              "  <thead>\n",
              "    <tr style=\"text-align: right;\">\n",
              "      <th></th>\n",
              "      <th>Unnamed: 0</th>\n",
              "      <th>Edad</th>\n",
              "      <th>Peso</th>\n",
              "      <th>Salario</th>\n",
              "    </tr>\n",
              "  </thead>\n",
              "  <tbody>\n",
              "    <tr>\n",
              "      <th>997</th>\n",
              "      <td>997</td>\n",
              "      <td>37</td>\n",
              "      <td>111</td>\n",
              "      <td>16076</td>\n",
              "    </tr>\n",
              "    <tr>\n",
              "      <th>998</th>\n",
              "      <td>998</td>\n",
              "      <td>44</td>\n",
              "      <td>90</td>\n",
              "      <td>29668</td>\n",
              "    </tr>\n",
              "    <tr>\n",
              "      <th>999</th>\n",
              "      <td>999</td>\n",
              "      <td>23</td>\n",
              "      <td>95</td>\n",
              "      <td>36629</td>\n",
              "    </tr>\n",
              "    <tr>\n",
              "      <th>1000</th>\n",
              "      <td>1001</td>\n",
              "      <td>1290</td>\n",
              "      <td>80</td>\n",
              "      <td>25000</td>\n",
              "    </tr>\n",
              "    <tr>\n",
              "      <th>1001</th>\n",
              "      <td>1002</td>\n",
              "      <td>1290</td>\n",
              "      <td>85</td>\n",
              "      <td>26000</td>\n",
              "    </tr>\n",
              "  </tbody>\n",
              "</table>\n",
              "</div>\n",
              "      <button class=\"colab-df-convert\" onclick=\"convertToInteractive('df-55c9b4df-957c-4ac8-878d-f0c875f7ff8e')\"\n",
              "              title=\"Convert this dataframe to an interactive table.\"\n",
              "              style=\"display:none;\">\n",
              "        \n",
              "  <svg xmlns=\"http://www.w3.org/2000/svg\" height=\"24px\"viewBox=\"0 0 24 24\"\n",
              "       width=\"24px\">\n",
              "    <path d=\"M0 0h24v24H0V0z\" fill=\"none\"/>\n",
              "    <path d=\"M18.56 5.44l.94 2.06.94-2.06 2.06-.94-2.06-.94-.94-2.06-.94 2.06-2.06.94zm-11 1L8.5 8.5l.94-2.06 2.06-.94-2.06-.94L8.5 2.5l-.94 2.06-2.06.94zm10 10l.94 2.06.94-2.06 2.06-.94-2.06-.94-.94-2.06-.94 2.06-2.06.94z\"/><path d=\"M17.41 7.96l-1.37-1.37c-.4-.4-.92-.59-1.43-.59-.52 0-1.04.2-1.43.59L10.3 9.45l-7.72 7.72c-.78.78-.78 2.05 0 2.83L4 21.41c.39.39.9.59 1.41.59.51 0 1.02-.2 1.41-.59l7.78-7.78 2.81-2.81c.8-.78.8-2.07 0-2.86zM5.41 20L4 18.59l7.72-7.72 1.47 1.35L5.41 20z\"/>\n",
              "  </svg>\n",
              "      </button>\n",
              "      \n",
              "  <style>\n",
              "    .colab-df-container {\n",
              "      display:flex;\n",
              "      flex-wrap:wrap;\n",
              "      gap: 12px;\n",
              "    }\n",
              "\n",
              "    .colab-df-convert {\n",
              "      background-color: #E8F0FE;\n",
              "      border: none;\n",
              "      border-radius: 50%;\n",
              "      cursor: pointer;\n",
              "      display: none;\n",
              "      fill: #1967D2;\n",
              "      height: 32px;\n",
              "      padding: 0 0 0 0;\n",
              "      width: 32px;\n",
              "    }\n",
              "\n",
              "    .colab-df-convert:hover {\n",
              "      background-color: #E2EBFA;\n",
              "      box-shadow: 0px 1px 2px rgba(60, 64, 67, 0.3), 0px 1px 3px 1px rgba(60, 64, 67, 0.15);\n",
              "      fill: #174EA6;\n",
              "    }\n",
              "\n",
              "    [theme=dark] .colab-df-convert {\n",
              "      background-color: #3B4455;\n",
              "      fill: #D2E3FC;\n",
              "    }\n",
              "\n",
              "    [theme=dark] .colab-df-convert:hover {\n",
              "      background-color: #434B5C;\n",
              "      box-shadow: 0px 1px 3px 1px rgba(0, 0, 0, 0.15);\n",
              "      filter: drop-shadow(0px 1px 2px rgba(0, 0, 0, 0.3));\n",
              "      fill: #FFFFFF;\n",
              "    }\n",
              "  </style>\n",
              "\n",
              "      <script>\n",
              "        const buttonEl =\n",
              "          document.querySelector('#df-55c9b4df-957c-4ac8-878d-f0c875f7ff8e button.colab-df-convert');\n",
              "        buttonEl.style.display =\n",
              "          google.colab.kernel.accessAllowed ? 'block' : 'none';\n",
              "\n",
              "        async function convertToInteractive(key) {\n",
              "          const element = document.querySelector('#df-55c9b4df-957c-4ac8-878d-f0c875f7ff8e');\n",
              "          const dataTable =\n",
              "            await google.colab.kernel.invokeFunction('convertToInteractive',\n",
              "                                                     [key], {});\n",
              "          if (!dataTable) return;\n",
              "\n",
              "          const docLinkHtml = 'Like what you see? Visit the ' +\n",
              "            '<a target=\"_blank\" href=https://colab.research.google.com/notebooks/data_table.ipynb>data table notebook</a>'\n",
              "            + ' to learn more about interactive tables.';\n",
              "          element.innerHTML = '';\n",
              "          dataTable['output_type'] = 'display_data';\n",
              "          await google.colab.output.renderOutput(dataTable, element);\n",
              "          const docLink = document.createElement('div');\n",
              "          docLink.innerHTML = docLinkHtml;\n",
              "          element.appendChild(docLink);\n",
              "        }\n",
              "      </script>\n",
              "    </div>\n",
              "  </div>\n",
              "  "
            ]
          },
          "metadata": {},
          "execution_count": 55
        }
      ]
    },
    {
      "cell_type": "markdown",
      "source": [
        "calculamos la media y mediana con los dos valores que hemos introducido."
      ],
      "metadata": {
        "id": "VmMFAVJJTiRZ"
      }
    },
    {
      "cell_type": "code",
      "source": [
        "media = np.mean(data['Edad'])\n",
        "mediana = np.median(data['Edad'])\n",
        "print('Media: ', media, '. Mediana: ',mediana)"
      ],
      "metadata": {
        "colab": {
          "base_uri": "https://localhost:8080/"
        },
        "id": "gOnUoBLDPQCo",
        "outputId": "555c8089-d87c-4c52-9fa3-81ee6ac96ff0"
      },
      "execution_count": null,
      "outputs": [
        {
          "output_type": "stream",
          "name": "stdout",
          "text": [
            "Media:  37.6936127744511 . Mediana:  36.0\n"
          ]
        }
      ]
    },
    {
      "cell_type": "markdown",
      "source": [
        "Ahora ejecutamos la media quitando un dato cada vez"
      ],
      "metadata": {
        "id": "bxgiX3DHT2P2"
      }
    },
    {
      "cell_type": "code",
      "source": [
        "edad_arr= data['Edad'].to_numpy()"
      ],
      "metadata": {
        "id": "3zRz20D8bs3g"
      },
      "execution_count": null,
      "outputs": []
    },
    {
      "cell_type": "code",
      "source": [
        "edad_arr"
      ],
      "metadata": {
        "colab": {
          "base_uri": "https://localhost:8080/"
        },
        "id": "ppW80jE5buaE",
        "outputId": "36cef5ec-7dea-4448-d799-a8d0d2fbc2ab"
      },
      "execution_count": null,
      "outputs": [
        {
          "output_type": "execute_result",
          "data": {
            "text/plain": [
              "array([  35,   39,   31, ...,   23, 1290, 1290])"
            ]
          },
          "metadata": {},
          "execution_count": 40
        }
      ]
    },
    {
      "cell_type": "code",
      "source": [
        "medias = np.zeros(len(edad_arr))\n",
        "for i in range(len(edad_arr)):\n",
        "  datos_sin_i = np.delete(edad_arr,i)\n",
        "  medias[i]=np.mean(datos_sin_i)"
      ],
      "metadata": {
        "id": "23MGI60-YTHg"
      },
      "execution_count": null,
      "outputs": []
    },
    {
      "cell_type": "code",
      "source": [
        "#Calculamos los cuartiles, 1 y 3\n",
        "Q1  = np.quantile(medias, 0.25)\n",
        "Q3  = np.quantile(medias, 0.75)\n",
        "IQR = Q3 - Q1\n",
        "k=1\n",
        "#Calculamos los extremos\n",
        "xL = Q1 - k * IQR\n",
        "xU = Q3 + k * IQR\n",
        "\n",
        "\n",
        "for i in range(len(edad_arr)):\n",
        "  if medias[i] < xL or medias[i] > xU:\n",
        "    print(f\"La media[{i}] = {medias[i]} es influyente\")\n"
      ],
      "metadata": {
        "id": "-HIeXIKWb66a",
        "colab": {
          "base_uri": "https://localhost:8080/"
        },
        "outputId": "bb15109e-e6bf-46fe-90aa-46a059baf411"
      },
      "execution_count": null,
      "outputs": [
        {
          "output_type": "stream",
          "name": "stdout",
          "text": [
            "La media[1000] = 36.442557442557444 es influyente\n",
            "La media[1001] = 36.442557442557444 es influyente\n"
          ]
        }
      ]
    },
    {
      "cell_type": "markdown",
      "source": [
        "***6. Utiliza MinMaxScaler para realizar un escalado del dataframe creado en el ejercicio 1. Muestra los resultados y comenta que ha sucedido.***"
      ],
      "metadata": {
        "id": "7svH-CMFcrr_"
      }
    },
    {
      "cell_type": "code",
      "source": [
        "scaler = MinMaxScaler()\n",
        "print(scaler.fit(data))\n",
        "print(scaler.data_max_)\n",
        "print(scaler.transform(data))"
      ],
      "metadata": {
        "id": "EMjjhLg6dWZc",
        "colab": {
          "base_uri": "https://localhost:8080/"
        },
        "outputId": "f817d11c-1aa4-48a5-cf35-1c5344244712"
      },
      "execution_count": null,
      "outputs": [
        {
          "output_type": "stream",
          "name": "stdout",
          "text": [
            "MinMaxScaler()\n",
            "[ 1002.  1290.   150. 40000.]\n",
            "[[0.00000000e+00 1.18110236e-02 9.40000000e-01 7.48657752e-01]\n",
            " [9.98003992e-04 1.49606299e-02 3.50000000e-01 7.96745256e-01]\n",
            " [1.99600798e-03 8.66141732e-03 1.10000000e-01 6.60419515e-01]\n",
            " ...\n",
            " [9.97005988e-01 2.36220472e-03 4.50000000e-01 8.87584620e-01]\n",
            " [9.99001996e-01 1.00000000e+00 3.00000000e-01 4.99783239e-01]\n",
            " [1.00000000e+00 1.00000000e+00 3.50000000e-01 5.33131023e-01]]\n"
          ]
        }
      ]
    },
    {
      "cell_type": "markdown",
      "source": [
        "\n",
        "\n",
        "---\n",
        "\n",
        "\n",
        "\n",
        "# Ejemplo de como crear un grafico en pandas"
      ],
      "metadata": {
        "id": "-Qik0eU-pHjz"
      }
    },
    {
      "cell_type": "code",
      "source": [
        "# Graficando histograma\n",
        "mu, sigma = 0, 0.2 # media y desvio estandar\n",
        "datos = np.random.normal(mu, sigma, 1000) #creando muestra de datos\n",
        "\n",
        "# histograma de distribución normal.\n",
        "cuenta, cajas, ignorar = plt.hist(datos, 20)\n",
        "plt.ylabel('frequencia')\n",
        "plt.xlabel('valores')\n",
        "plt.title('Histograma')\n",
        "plt.show()"
      ],
      "metadata": {
        "id": "4l0d8dcnt0MU",
        "colab": {
          "base_uri": "https://localhost:8080/",
          "height": 295
        },
        "outputId": "6e970028-5461-4850-c702-6390f268e7cc"
      },
      "execution_count": null,
      "outputs": [
        {
          "output_type": "display_data",
          "data": {
            "text/plain": [
              "<Figure size 432x288 with 1 Axes>"
            ],
            "image/png": "[encoded data removed]"
          },
          "metadata": {
            "needs_background": "light"
          }
        }
      ]
    }
  ]
}